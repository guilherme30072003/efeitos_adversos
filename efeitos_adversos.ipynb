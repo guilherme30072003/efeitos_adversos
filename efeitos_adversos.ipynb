{
 "cells": [
  {
   "cell_type": "markdown",
   "metadata": {},
   "source": [
    "# Efeitos adversos\n",
    "## Objetivos:\n",
    "- Ver quais foram os grupos de pessoas mais afetados por efeitos adversos\n",
    "- Conseguir prever se novos pacientes terão esses efeitos\n",
    "## Observações:\n",
    "- idade, peso e comorbidade são as minhas variáveis preditoras\n",
    "- efeito_adverso é a minha variável alvo"
   ]
  },
  {
   "cell_type": "code",
   "execution_count": 1,
   "metadata": {},
   "outputs": [],
   "source": [
    "# Importando as bibliotecas utilizadas\n",
    "import pandas as pd\n",
    "import matplotlib.pyplot as plt\n",
    "dataset = pd.read_csv(\"/efeito_adverso_de_remedios.csv\")\n",
    "novos_pacientes = pd.read_csv(\"/novos_pacientes.csv\")"
   ]
  },
  {
   "cell_type": "code",
   "execution_count": 2,
   "metadata": {},
   "outputs": [
    {
     "name": "stdout",
     "output_type": "stream",
     "text": [
      "    paciente  idade  peso comorbidade efeito_adverso\n",
      "1          1     56    78           s              s\n",
      "2          2     48    44           n              s\n",
      "3          3      5    56           n              s\n",
      "4          4     56    89           s              s\n",
      "5          5     13    94           s              s\n",
      "6          6     28    78           n              s\n",
      "12        12     78    59           s              s\n",
      "14        14     35    65           n              s\n",
      "16        16     91    45           n              s\n",
      "18        18     65    49           n              s\n",
      "23        23     30    95           n              s\n",
      "24        24     80    65           s              s\n",
      "25        25     45    50           n              s\n"
     ]
    }
   ],
   "source": [
    "# Criando o dataset \"datasetAfetados\"\n",
    "datasetAfetados = dataset.loc[dataset[\"efeito_adverso\"]==\"s\"]\n",
    "print(datasetAfetados)"
   ]
  },
  {
   "cell_type": "code",
   "execution_count": 3,
   "metadata": {},
   "outputs": [
    {
     "name": "stdout",
     "output_type": "stream",
     "text": [
      "Média de idade dos afetados (anos): 48.5\n",
      "Média de peso dos afetados (quilogramas): 66.7\n"
     ]
    }
   ],
   "source": [
    "# Média de idade e peso dos afetados\n",
    "print(\"Média de idade dos afetados (anos): {0:.1f}\".format(datasetAfetados[\"idade\"].mean()))\n",
    "print(\"Média de peso dos afetados (quilogramas): {0:.1f}\".format(datasetAfetados[\"peso\"].mean()))"
   ]
  },
  {
   "cell_type": "code",
   "execution_count": 4,
   "metadata": {},
   "outputs": [
    {
     "data": {
      "image/png": "[encoded data removed]",
      "text/plain": [
       "<Figure size 432x288 with 1 Axes>"
      ]
     },
     "metadata": {
      "needs_background": "light"
     },
     "output_type": "display_data"
    }
   ],
   "source": [
    "# Boxplot (diagrama de caixa) de idade e peso dos afetados\n",
    "datasetAfetados.boxplot(column = [\"idade\",\"peso\"])\n",
    "plt.show()"
   ]
  },
  {
   "cell_type": "code",
   "execution_count": 5,
   "metadata": {},
   "outputs": [
    {
     "data": {
      "image/png": "[encoded data removed]",
      "text/plain": [
       "<Figure size 432x288 with 1 Axes>"
      ]
     },
     "metadata": {
      "needs_background": "light"
     },
     "output_type": "display_data"
    }
   ],
   "source": [
    "# Gráfico de dispersão das idades e pesos dos afetados (cada ponto equivale a uma pessoa). Isso mostra a idade e o peso das pessoas afetadas por efeitos adversos\n",
    "plt.scatter(datasetAfetados[\"idade\"],datasetAfetados[\"peso\"])\n",
    "plt.show()"
   ]
  },
  {
   "cell_type": "code",
   "execution_count": 6,
   "metadata": {},
   "outputs": [
    {
     "data": {
      "image/png": "[encoded data removed]",
      "text/plain": [
       "<Figure size 432x288 with 1 Axes>"
      ]
     },
     "metadata": {
      "needs_background": "light"
     },
     "output_type": "display_data"
    }
   ],
   "source": [
    "# Histograma das idades dos afetados. Segundo o gráfico, a faixa etária mais afetada foi de 40 a 60 anos\n",
    "datasetAfetados.hist(column = 'idade', bins = 10)\n",
    "plt.show()"
   ]
  },
  {
   "cell_type": "code",
   "execution_count": 7,
   "metadata": {},
   "outputs": [
    {
     "data": {
      "image/png": "[encoded data removed]",
      "text/plain": [
       "<Figure size 432x288 with 1 Axes>"
      ]
     },
     "metadata": {
      "needs_background": "light"
     },
     "output_type": "display_data"
    }
   ],
   "source": [
    "# Histograma dos pesos dos afetados. Segundo o gráfico, a faixa de peso mais afetada foi de 0 a 50 quilogramas\n",
    "datasetAfetados.hist(column = 'peso', bins = 10)\n",
    "plt.show()"
   ]
  },
  {
   "cell_type": "code",
   "execution_count": 8,
   "metadata": {},
   "outputs": [
    {
     "name": "stdout",
     "output_type": "stream",
     "text": [
      "43% das pessoas foram afetadas e 57% não foram afetadas (números aproximados)\n"
     ]
    }
   ],
   "source": [
    "# Porcentagem de afetados e não afetados\n",
    "afetados_porcentagem = 13*100/30\n",
    "nao_afetados_porcentagem = 17*100/30\n",
    "print(\"{0:.0f}% das pessoas foram afetadas e {1:.0f}% não foram afetadas (números aproximados)\".format(afetados_porcentagem,nao_afetados_porcentagem))"
   ]
  },
  {
   "cell_type": "markdown",
   "metadata": {},
   "source": [
    "## Criando um modelo de machine learning para ver se novos pacientes teram ou não efeitos adversos, onde:\n",
    "- sim = s = 1\n",
    "- não = n = 0"
   ]
  },
  {
   "cell_type": "code",
   "execution_count": 13,
   "metadata": {},
   "outputs": [
    {
     "name": "stdout",
     "output_type": "stream",
     "text": [
      "    paciente  idade  peso  comorbidade  efeito_adverso\n",
      "0          0     12    34            0               0\n",
      "1          1     56    78            1               1\n",
      "2          2     48    44            0               1\n",
      "3          3      5    56            0               1\n",
      "4          4     56    89            1               1\n",
      "5          5     13    94            1               1\n",
      "6          6     28    78            0               1\n",
      "7          7     16    99            1               0\n",
      "8          8     46    54            0               0\n",
      "9          9     98    65            1               0\n",
      "10        10     53    89            1               0\n",
      "11        11     62    44            1               0\n",
      "12        12     78    59            1               1\n",
      "13        13     12    50            1               0\n",
      "14        14     35    65            0               1\n",
      "15        15     68    48            0               0\n",
      "16        16     91    45            0               1\n",
      "17        17     23    65            0               0\n",
      "18        18     65    49            0               1\n",
      "19        19     77    89            0               0\n",
      "20        20     11    66            0               0\n",
      "21        21     45    51            1               0\n",
      "22        22     69    83            1               0\n",
      "23        23     30    95            0               1\n",
      "24        24     80    65            1               1\n",
      "25        25     45    50            0               1\n",
      "26        26     77    84            0               0\n",
      "27        27     66    59            1               0\n",
      "28        28     68    75            0               0\n",
      "29        29     20    86            0               0\n"
     ]
    }
   ],
   "source": [
    "# Criando uma cópia do dataset para fazer o modelo\n",
    "datasetPrevisao = dataset\n",
    "\n",
    "# Trocando 's' e 'n' por números\n",
    "datasetPrevisao[\"comorbidade\"] = datasetPrevisao[\"comorbidade\"].replace(\"s\",1)\n",
    "datasetPrevisao[\"comorbidade\"] = datasetPrevisao[\"comorbidade\"].replace(\"n\",0)\n",
    "\n",
    "datasetPrevisao[\"efeito_adverso\"] = datasetPrevisao[\"efeito_adverso\"].replace(\"s\",1)\n",
    "datasetPrevisao[\"efeito_adverso\"] = datasetPrevisao[\"efeito_adverso\"].replace(\"n\",0)\n",
    "print(datasetPrevisao)"
   ]
  },
  {
   "cell_type": "code",
   "execution_count": 15,
   "metadata": {},
   "outputs": [
    {
     "name": "stdout",
     "output_type": "stream",
     "text": [
      "0    0\n",
      "1    1\n",
      "2    1\n",
      "3    1\n",
      "4    1\n",
      "Name: efeito_adverso, dtype: int64\n",
      "   idade  peso  comorbidade\n",
      "0     12    34            0\n",
      "1     56    78            1\n",
      "2     48    44            0\n",
      "3      5    56            0\n",
      "4     56    89            1\n"
     ]
    }
   ],
   "source": [
    "# Separando em variáveis preditoras e variáveis alvo\n",
    "variavel_alvo = datasetPrevisao[\"efeito_adverso\"]\n",
    "variaveis_preditoras = datasetPrevisao.drop(\"efeito_adverso\", axis = 1)\n",
    "variaveis_preditoras.drop(\"paciente\", axis = 1, inplace = True)\n",
    "print(variavel_alvo.head())\n",
    "print(variaveis_preditoras.head())"
   ]
  },
  {
   "cell_type": "code",
   "execution_count": 16,
   "metadata": {},
   "outputs": [
    {
     "name": "stdout",
     "output_type": "stream",
     "text": [
      "(21, 3)\n",
      "(21,)\n",
      "(9, 3)\n",
      "(9,)\n"
     ]
    }
   ],
   "source": [
    "# Separando em treino e teste\n",
    "from sklearn.model_selection import train_test_split\n",
    "variaveis_preditoras_treino, variaveis_preditoras_teste, variavel_alvo_treino, variavel_alvo_teste = train_test_split(variaveis_preditoras, variavel_alvo, test_size = 0.3)\n",
    "\n",
    "# A quantidade de linhas dos datasets de treino (variaveis_preditoras_treino e variavel_alvo_treino) devem ser iguais, o mesmo vale para os de teste (variaveis_preditoras_teste e variavel_alvo_teste)\n",
    "print(variaveis_preditoras_treino.shape)\n",
    "print(variavel_alvo_treino.shape)\n",
    "print(variaveis_preditoras_teste.shape)\n",
    "print(variavel_alvo_teste.shape)"
   ]
  },
  {
   "cell_type": "code",
   "execution_count": null,
   "metadata": {},
   "outputs": [],
   "source": [
    "# Importando o algoritmo\n",
    "from sklearn.ensemble import ExtraTreesClassifier\n",
    "modelo = ExtraTreesClassifier()\n",
    "\n",
    "# Treinando-o\n",
    "modelo.fit(variaveis_preditoras_treino, variavel_alvo_treino)"
   ]
  },
  {
   "cell_type": "code",
   "execution_count": 29,
   "metadata": {},
   "outputs": [
    {
     "name": "stdout",
     "output_type": "stream",
     "text": [
      "Acurácia do modelo: 33.33333333333333% \n",
      "\n"
     ]
    }
   ],
   "source": [
    "# Testando-o\n",
    "resultado = modelo.score(variaveis_preditoras_teste,variavel_alvo_teste)\n",
    "\n",
    "# E mostrando sua acurácia em decimal\n",
    "print(\"Acurácia do modelo: {0}% \\n\".format(resultado*100))"
   ]
  },
  {
   "cell_type": "markdown",
   "metadata": {},
   "source": [
    "## Prevendo valores com novos pacientes:"
   ]
  },
  {
   "cell_type": "code",
   "execution_count": 30,
   "metadata": {},
   "outputs": [],
   "source": [
    "# Criando o dataset \"novos_pacientesPrevisao\"\n",
    "novos_pacientesPrevisao = novos_pacientes"
   ]
  },
  {
   "cell_type": "code",
   "execution_count": 31,
   "metadata": {},
   "outputs": [
    {
     "name": "stdout",
     "output_type": "stream",
     "text": [
      "   idade  peso  comorbidade\n",
      "0     89    73            0\n",
      "1     90    95            0\n",
      "2     44    50            1\n",
      "3      7    36            1\n",
      "4     37    75            1\n"
     ]
    }
   ],
   "source": [
    "# Substitui o \"s\" e o \"n\" por 0 e 1 na coluna comorbidade de novos_pacientesPrevisao\n",
    "novos_pacientesPrevisao[\"comorbidade\"] = novos_pacientesPrevisao[\"comorbidade\"].replace(\"s\",1)\n",
    "novos_pacientesPrevisao[\"comorbidade\"] = novos_pacientesPrevisao[\"comorbidade\"].replace(\"n\",0)\n",
    "\n",
    "# Remove a coluna paciente e efeito_adverso de novos_pacientesPrevisao\n",
    "novos_pacientesPrevisao.drop(\"paciente\", axis = 1, inplace = True)\n",
    "novos_pacientesPrevisao.drop(\"efeito_adverso\", axis = 1, inplace = True)\n",
    "print(novos_pacientesPrevisao.head())"
   ]
  },
  {
   "cell_type": "code",
   "execution_count": 32,
   "metadata": {},
   "outputs": [
    {
     "name": "stdout",
     "output_type": "stream",
     "text": [
      "Os resultados da previsão de efeitos adversos em 5 novos pacientes foram: ['n', 'n', 'n', 'n', 's'] \n",
      "\n"
     ]
    }
   ],
   "source": [
    "# Armazena os resultados da previsão na variável resultado\n",
    "resultado = modelo.predict(novos_pacientesPrevisao)\n",
    "\n",
    "# Convertendo 0 e 1 em 'n' e 's'\n",
    "resultado_lista = []\n",
    "for e in resultado:\n",
    "    if e == 1:\n",
    "        resultado_lista.append(\"s\")\n",
    "    else:\n",
    "        resultado_lista.append(\"n\")\n",
    "\n",
    "print(\"Os resultados da previsão de efeitos adversos em 5 novos pacientes foram:\", resultado_lista, \"\\n\")"
   ]
  }
 ],
 "metadata": {
  "interpreter": {
   "hash": "31f2aee4e71d21fbe5cf8b01ff0e069b9275f58929596ceb00d14d90e3e16cd6"
  },
  "kernelspec": {
   "display_name": "Python 3.6.9 64-bit",
   "name": "python3"
  },
  "language_info": {
   "codemirror_mode": {
    "name": "ipython",
    "version": 3
   },
   "file_extension": ".py",
   "mimetype": "text/x-python",
   "name": "python",
   "nbconvert_exporter": "python",
   "pygments_lexer": "ipython3",
   "version": "3.6.9"
  },
  "orig_nbformat": 4
 },
 "nbformat": 4,
 "nbformat_minor": 2
}
